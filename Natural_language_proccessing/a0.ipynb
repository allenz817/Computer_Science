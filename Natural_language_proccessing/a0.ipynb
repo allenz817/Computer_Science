{
 "cells": [
  {
   "cell_type": "code",
   "execution_count": 2,
   "id": "6db052c8",
   "metadata": {},
   "outputs": [],
   "source": [
    "import numpy as np"
   ]
  },
  {
   "cell_type": "markdown",
   "id": "792ded0c",
   "metadata": {},
   "source": [
    "# Q1"
   ]
  },
  {
   "cell_type": "code",
   "execution_count": null,
   "id": "663363cb",
   "metadata": {},
   "outputs": [
    {
     "name": "stdout",
     "output_type": "stream",
     "text": [
      "undefined\n"
     ]
    }
   ],
   "source": [
    "#a\n",
    "x = np.array([[1,2,4],[3,4,2]])\n",
    "y = np.array([4,2])\n",
    "if np.shape(x)[1] == np.shape(y)[0]:\n",
    "    z = x @ y\n",
    "    print(z)\n",
    "else:\n",
    "    print(\"undefined\")"
   ]
  },
  {
   "cell_type": "code",
   "execution_count": 12,
   "id": "98bc05c3",
   "metadata": {},
   "outputs": [
    {
     "name": "stdout",
     "output_type": "stream",
     "text": [
      "[22 36]\n"
     ]
    }
   ],
   "source": [
    "#b\n",
    "x = np.array([[1,2,4],[3,4,2]])\n",
    "y = np.array([4,5,2])\n",
    "if np.shape(x)[1] == np.shape(y)[0]:\n",
    "    z = x @ y\n",
    "    print(z)\n",
    "else:\n",
    "    print(\"undefined\")"
   ]
  }
 ],
 "metadata": {
  "kernelspec": {
   "display_name": "Python 3",
   "language": "python",
   "name": "python3"
  },
  "language_info": {
   "codemirror_mode": {
    "name": "ipython",
    "version": 3
   },
   "file_extension": ".py",
   "mimetype": "text/x-python",
   "name": "python",
   "nbconvert_exporter": "python",
   "pygments_lexer": "ipython3",
   "version": "3.12.7"
  }
 },
 "nbformat": 4,
 "nbformat_minor": 5
}
