{
 "cells": [
  {
   "cell_type": "code",
   "execution_count": 2,
   "id": "6db052c8",
   "metadata": {},
   "outputs": [],
   "source": [
    "import numpy as np"
   ]
  },
  {
   "cell_type": "markdown",
   "id": "792ded0c",
   "metadata": {},
   "source": [
    "# Q1"
   ]
  },
  {
   "cell_type": "code",
   "execution_count": null,
   "id": "663363cb",
   "metadata": {},
   "outputs": [
    {
     "name": "stdout",
     "output_type": "stream",
     "text": [
      "undefined\n"
     ]
    }
   ],
   "source": [
    "#a\n",
    "x = np.array([[1,2,4],[3,4,2]])\n",
    "y = np.array([4,2])\n",
    "if np.shape(x)[1] == np.shape(y)[0]:\n",
    "    z = x @ y\n",
    "    print(z)\n",
    "else:\n",
    "    print(\"undefined\")"
   ]
  },
  {
   "cell_type": "code",
   "execution_count": 12,
   "id": "98bc05c3",
   "metadata": {},
   "outputs": [
    {
     "name": "stdout",
     "output_type": "stream",
     "text": [
      "[22 36]\n"
     ]
    }
   ],
   "source": [
    "#b\n",
    "x = np.array([[1,2,4],[3,4,2]])\n",
    "y = np.array([4,5,2])\n",
    "if np.shape(x)[1] == np.shape(y)[0]:\n",
    "    z = x @ y\n",
    "    print(z)\n",
    "else:\n",
    "    print(\"undefined\")"
   ]
  },
  {
   "cell_type": "code",
   "execution_count": 14,
   "id": "ee81d9f9",
   "metadata": {},
   "outputs": [
    {
     "name": "stdout",
     "output_type": "stream",
     "text": [
      "undefined\n"
     ]
    }
   ],
   "source": [
    "#c\n",
    "x = np.array([[1,2,4],[3,4,2]])\n",
    "y = np.array([[4,2]])\n",
    "if np.shape(x)[1] == np.shape(y)[0]:\n",
    "    z = x @ y\n",
    "    print(z)\n",
    "else:\n",
    "    print(\"undefined\")"
   ]
  },
  {
   "cell_type": "code",
   "execution_count": null,
   "id": "5a21420a",
   "metadata": {},
   "outputs": [
    {
     "name": "stdout",
     "output_type": "stream",
     "text": [
      "[[38]]\n"
     ]
    }
   ],
   "source": [
    "#d\n",
    "x = np.array([6,2,4]).reshape(-1,1).T\n",
    "y = np.array([5,2,1]).reshape(-1,1)\n",
    "if np.shape(x)[1] == np.shape(y)[0]:\n",
    "    z = x @ y\n",
    "    print(z)\n",
    "else:\n",
    "    print(\"undefined\")\n"
   ]
  },
  {
   "cell_type": "markdown",
   "id": "d8f1f2ba",
   "metadata": {},
   "source": [
    "# Q2"
   ]
  },
  {
   "cell_type": "code",
   "execution_count": 27,
   "id": "6aeb5d20",
   "metadata": {},
   "outputs": [
    {
     "data": {
      "text/plain": [
       "np.float64(0.6267839134558388)"
      ]
     },
     "execution_count": 27,
     "metadata": {},
     "output_type": "execute_result"
    }
   ],
   "source": [
    "A = np.random.rand(3)\n",
    "B = np.random.rand(3,2)\n",
    "C = np.random.rand(2)\n",
    "total = 0.0\n",
    "for i in range(0,3):\n",
    "    for j in range(0,2):\n",
    "        total += A[i] * B[i][j] * C[j]\n",
    "total"
   ]
  },
  {
   "cell_type": "markdown",
   "id": "898cbb53",
   "metadata": {},
   "source": [
    "# Q6"
   ]
  },
  {
   "cell_type": "code",
   "execution_count": 34,
   "id": "3973149e",
   "metadata": {},
   "outputs": [
    {
     "data": {
      "text/plain": [
       "[('the', 26423),\n",
       " ('of', 13072),\n",
       " ('to', 11264),\n",
       " ('a', 10447),\n",
       " ('and', 9533),\n",
       " ('in', 8677),\n",
       " ('that', 5778),\n",
       " ('for', 4089),\n",
       " ('is', 3664),\n",
       " ('Mr.', 3349)]"
      ]
     },
     "execution_count": 34,
     "metadata": {},
     "output_type": "execute_result"
    }
   ],
   "source": [
    "from collections import Counter\n",
    "\n",
    "with open(\"nyt.txt\", \"r\", encoding=\"utf-8\") as f:\n",
    "    text = f.read()\n",
    "\n",
    "sentences = text.strip().split('\\n')\n",
    "word_counts = Counter()\n",
    "for sentence in sentences:\n",
    "    words = sentence.strip().split()\n",
    "    word_counts.update(words)\n",
    "    \n",
    "top_10_words = word_counts.most_common(10)\n",
    "top_10_words"
   ]
  },
  {
   "cell_type": "code",
   "execution_count": null,
   "id": "bc9b5423",
   "metadata": {},
   "outputs": [],
   "source": []
  }
 ],
 "metadata": {
  "kernelspec": {
   "display_name": "Python 3",
   "language": "python",
   "name": "python3"
  },
  "language_info": {
   "codemirror_mode": {
    "name": "ipython",
    "version": 3
   },
   "file_extension": ".py",
   "mimetype": "text/x-python",
   "name": "python",
   "nbconvert_exporter": "python",
   "pygments_lexer": "ipython3",
   "version": "3.12.7"
  }
 },
 "nbformat": 4,
 "nbformat_minor": 5
}
