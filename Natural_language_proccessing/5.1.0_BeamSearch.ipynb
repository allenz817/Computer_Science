{
 "cells": [
  {
   "cell_type": "markdown",
   "id": "7f7cad34",
   "metadata": {},
   "source": [
    "# 5.1.0 Beam Search"
   ]
  },
  {
   "cell_type": "markdown",
   "id": "c0a1d68b",
   "metadata": {},
   "source": [
    "Viterbi runtime: O(n |T|^2)\n",
    "|T| ~ 40 for English Penn Treebank\n",
    "\n",
    "Beam searchL keep only the top K Viterbi states at each timestep K < |T|\n",
    "- Implement: keep a priority queue of k states, \"push them forward\" into a new priority queue\n",
    "- only keep the best K\n",
    "- Runtime: O(nk|T|logK)\n",
    "- K: 2 ~ 100\n"
   ]
  }
 ],
 "metadata": {
  "language_info": {
   "name": "python"
  }
 },
 "nbformat": 4,
 "nbformat_minor": 5
}
