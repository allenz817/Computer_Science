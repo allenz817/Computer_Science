{
 "cells": [
  {
   "cell_type": "markdown",
   "id": "7f7cad34",
   "metadata": {},
   "source": [
    "# 5.1.0 Beam Search"
   ]
  },
  {
   "cell_type": "markdown",
   "id": "c0a1d68b",
   "metadata": {},
   "source": [
    "Viterbi runtime: O(n |T|^2)\n",
    "|T| ~ 40 for English Penn Treebank\n",
    "\n",
    "Beam searchL keep only the top K Viterbi states at each timestep K < |T|\n",
    "- Implement: keep a priority queue of k states, \"push them forward\" into a new priority queue\n",
    "- only keep the best K\n",
    "- Runtime: O(nk|T|logK)\n",
    "- K: 2 ~ 100 (k=1 -> greedy algorithm)\n"
   ]
  },
  {
   "cell_type": "markdown",
   "id": "888657dc",
   "metadata": {},
   "source": [
    "![](5.1.0_1.png)"
   ]
  },
  {
   "cell_type": "markdown",
   "id": "729660a7",
   "metadata": {},
   "source": [
    "# 5.1.1 Nucleus Sampling"
   ]
  },
  {
   "cell_type": "markdown",
   "id": "432dc8ec",
   "metadata": {},
   "source": [
    "![](5.1.1_1.png)"
   ]
  },
  {
   "cell_type": "markdown",
   "id": "ab3df4db",
   "metadata": {},
   "source": [
    "beam search is good for translation\n",
    "random sampling is good for open ended context like story generation"
   ]
  },
  {
   "cell_type": "markdown",
   "id": "033b05ad",
   "metadata": {},
   "source": [
    "drawback of beam search: degeneration\n",
    "beam search failed because the model is locally normalized\n"
   ]
  },
  {
   "cell_type": "markdown",
   "id": "92f3d333",
   "metadata": {},
   "source": [
    "![](5.1.1_2.png)"
   ]
  },
  {
   "cell_type": "markdown",
   "id": "90524097",
   "metadata": {},
   "source": [
    "![](5.1.1_3.png)"
   ]
  },
  {
   "cell_type": "markdown",
   "id": "bad32237",
   "metadata": {},
   "source": [
    "![](5.1.1_4.png)"
   ]
  },
  {
   "cell_type": "markdown",
   "id": "8852596f",
   "metadata": {},
   "source": [
    "![](5.1.1_5.png)"
   ]
  },
  {
   "cell_type": "markdown",
   "id": "a8caddf5",
   "metadata": {},
   "source": [
    "![](5.1.1_6.png)"
   ]
  }
 ],
 "metadata": {
  "language_info": {
   "name": "python"
  }
 },
 "nbformat": 4,
 "nbformat_minor": 5
}
