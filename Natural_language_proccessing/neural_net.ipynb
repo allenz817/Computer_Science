{
 "cells": [
  {
   "cell_type": "markdown",
   "id": "a3fca0d6",
   "metadata": {},
   "source": [
    "# PyTorch Implementation\n",
    "Define modules, etc.\n",
    "Initialize weights and optimizer\n",
    "For each epoch:\n",
    "    For each batch of data:\n",
    "        Zero out gradient\n",
    "        Compute loss on batch\n",
    "        Autograd to compute gradients and take step on optimizer\n",
    "    [Optional: check perofmance on dev set to identify overfitting]\n",
    "Run on dev/test set"
   ]
  },
  {
   "cell_type": "code",
   "execution_count": 3,
   "id": "50142754",
   "metadata": {},
   "outputs": [],
   "source": [
    "from torch import nn\n",
    "import torch"
   ]
  },
  {
   "cell_type": "code",
   "execution_count": null,
   "id": "5a511d3e",
   "metadata": {},
   "outputs": [],
   "source": [
    "class FFNN(nn.Module):\n",
    "    def __init__(self, input_size, hidden_size, output_size):\n",
    "        super(FFNN, self).__init__()\n",
    "        self.V = nn.Linear(input_size, hidden_size) \n",
    "        self.g = nn.ReLU()\n",
    "        self.W = nn.Linear(hidden_size, output_size)\n",
    "        self.softmax = nn.Softmax(dim=0)\n",
    "        nn.init.uniform_(self.V.weight)\n",
    "\n",
    "    def forward(self, x):\n",
    "        \"\"\"\n",
    "        out = self.V(x)\n",
    "        out = self.g(out)\n",
    "        out = self.W(out)\n",
    "        out = self.softmax(out)\n",
    "        return out\n",
    "        \"\"\"\n",
    "        return self.softmax(self.W(self.g(self.V(x))))"
   ]
  },
  {
   "cell_type": "code",
   "execution_count": null,
   "id": "e32bc615",
   "metadata": {},
   "outputs": [],
   "source": [
    "def form_input(x) -> torch.Tensor:\n",
    "    # Index words/embed words/etc.\n",
    "    return torch.from_numpy(x).float()"
   ]
  },
  {
   "cell_type": "code",
   "execution_count": null,
   "id": "b3d3a304",
   "metadata": {},
   "outputs": [],
   "source": [
    "ffnn = FFNN(input_size=10, hidden_size=5, output_size=2)\n",
    "optimizer = torch.optim.Adam(ffnn.parameters(), lr=0.01)\n",
    "for epoch in range(100):\n",
    "    for x, y in training_data:  # Assume data is defined elsewhere, x is input, y is gold_label one-hot vector\n",
    "        ffnn.zero_grad() # clear gradient variables\n",
    "        probs = ffnn.forward(x)\n",
    "        loss = torch.neg(torch.log(probs)) @ y  # negative log likelihood\n",
    "        loss.backward()  # compute gradients\n",
    "        optimizer.step()  # update weights"
   ]
  }
 ],
 "metadata": {
  "kernelspec": {
   "display_name": "Python 3",
   "language": "python",
   "name": "python3"
  },
  "language_info": {
   "codemirror_mode": {
    "name": "ipython",
    "version": 3
   },
   "file_extension": ".py",
   "mimetype": "text/x-python",
   "name": "python",
   "nbconvert_exporter": "python",
   "pygments_lexer": "ipython3",
   "version": "3.12.7"
  }
 },
 "nbformat": 4,
 "nbformat_minor": 5
}
