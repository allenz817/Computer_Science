{
 "cells": [
  {
   "cell_type": "code",
   "execution_count": 1,
   "metadata": {},
   "outputs": [],
   "source": [
    "import torch"
   ]
  },
  {
   "cell_type": "code",
   "execution_count": 2,
   "metadata": {},
   "outputs": [
    {
     "data": {
      "text/plain": [
       "torch.Size([16, 10, 128])"
      ]
     },
     "execution_count": 2,
     "metadata": {},
     "output_type": "execute_result"
    }
   ],
   "source": [
    "import torch\n",
    "class TransformerLayer(torch.nn.Module):\n",
    "    def __init__(self, embed_dim, num_heads):\n",
    "        super().__init__()\n",
    "        self.self_att = torch.nn.MultiheadAttention(embed_dim, num_heads, batch_first=True)\n",
    "        self.mlp = torch.nn.Sequential(\n",
    "            torch.nn.Linear(embed_dim, 4 * embed_dim),\n",
    "            torch.nn.ReLU(),\n",
    "            torch.nn.Linear(4 * embed_dim, embed_dim)\n",
    "        )\n",
    "        self.in_norm = torch.nn.LayerNorm(embed_dim)\n",
    "        self.mlp_norm = torch.nn.LayerNorm(embed_dim)\n",
    "    \n",
    "    def forward(self, x):\n",
    "        x_norm = self.in_norm(x)\n",
    "        x = x + self.self_att(x_norm, x_norm, x_norm)[0]\n",
    "        x = x + self.mlp(self.mlp_norm(x))\n",
    "        return x\n",
    "    \n",
    "class Transformer(torch.nn.Module):\n",
    "    def __init__(self, embed_dim, num_heads, num_layers):\n",
    "        super().__init__()\n",
    "        \"\"\"\n",
    "        self.layers = torch.nn.ModuleList(\n",
    "            [TransformerLayer(embed_dim, num_heads) for _ in range(num_layers)]\n",
    "            )\n",
    "            \"\"\"\n",
    "        self.network = torch.nn.Sequential(\n",
    "            *[TransformerLayer(embed_dim, num_heads) for _ in range(num_layers)]\n",
    "        )\n",
    "\n",
    "    def forward(self, x):\n",
    "        \"\"\"\n",
    "        for layer in self.layers:\n",
    "            x = layer(x)\n",
    "        return self.out(x).mean(dim=1)\n",
    "        \"\"\"\n",
    "        return self.network(x)\n",
    "    \n",
    "net = Transformer(128, 8, 4)\n",
    "net(torch.randn(16, 10, 128)).shape"
   ]
  }
 ],
 "metadata": {
  "kernelspec": {
   "display_name": "Python 3",
   "language": "python",
   "name": "python3"
  },
  "language_info": {
   "codemirror_mode": {
    "name": "ipython",
    "version": 3
   },
   "file_extension": ".py",
   "mimetype": "text/x-python",
   "name": "python",
   "nbconvert_exporter": "python",
   "pygments_lexer": "ipython3",
   "version": "3.12.7"
  }
 },
 "nbformat": 4,
 "nbformat_minor": 2
}
