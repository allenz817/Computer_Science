{
 "cells": [
  {
   "cell_type": "code",
   "execution_count": 1,
   "metadata": {},
   "outputs": [],
   "source": [
    "import torch"
   ]
  },
  {
   "cell_type": "code",
   "execution_count": 2,
   "metadata": {},
   "outputs": [],
   "source": [
    "net = torch.nn.Conv2d(1, 16, 3, 2, (3-1)//2)"
   ]
  },
  {
   "cell_type": "code",
   "execution_count": 3,
   "metadata": {},
   "outputs": [
    {
     "name": "stdout",
     "output_type": "stream",
     "text": [
      "torch.Size([1, 1, 28, 28])\n"
     ]
    }
   ],
   "source": [
    "x = torch.randn(1, 1, 28, 28)\n",
    "print(x.shape)"
   ]
  },
  {
   "cell_type": "code",
   "execution_count": 4,
   "metadata": {},
   "outputs": [
    {
     "name": "stdout",
     "output_type": "stream",
     "text": [
      "torch.Size([1, 16, 14, 14])\n"
     ]
    }
   ],
   "source": [
    "y = net(x)\n",
    "print(y.shape)"
   ]
  },
  {
   "cell_type": "code",
   "execution_count": null,
   "metadata": {},
   "outputs": [
    {
     "ename": "AttributeError",
     "evalue": "module 'torch.nn' has no attribute 'AdaptiveAveragePool2d'",
     "output_type": "error",
     "traceback": [
      "\u001b[1;31m---------------------------------------------------------------------------\u001b[0m",
      "\u001b[1;31mAttributeError\u001b[0m                            Traceback (most recent call last)",
      "Cell \u001b[1;32mIn[5], line 17\u001b[0m\n\u001b[0;32m     14\u001b[0m     \u001b[38;5;28;01mdef\u001b[39;00m\u001b[38;5;250m \u001b[39m\u001b[38;5;21mforward\u001b[39m(\u001b[38;5;28mself\u001b[39m, x):\n\u001b[0;32m     15\u001b[0m         \u001b[38;5;28;01mreturn\u001b[39;00m \u001b[38;5;28mself\u001b[39m\u001b[38;5;241m.\u001b[39mnetwork(x)\n\u001b[1;32m---> 17\u001b[0m net \u001b[38;5;241m=\u001b[39m \u001b[43mConvNet\u001b[49m\u001b[43m(\u001b[49m\u001b[43mstride\u001b[49m\u001b[43m \u001b[49m\u001b[38;5;241;43m=\u001b[39;49m\u001b[43m \u001b[49m\u001b[38;5;241;43m2\u001b[39;49m\u001b[43m)\u001b[49m\n\u001b[0;32m     18\u001b[0m \u001b[38;5;28mprint\u001b[39m(net)\n\u001b[0;32m     19\u001b[0m net(x)\u001b[38;5;241m.\u001b[39mshape\n",
      "Cell \u001b[1;32mIn[5], line 11\u001b[0m, in \u001b[0;36mConvNet.__init__\u001b[1;34m(self, layers, kernel_size, stride)\u001b[0m\n\u001b[0;32m      9\u001b[0m     c1 \u001b[38;5;241m=\u001b[39m c2\n\u001b[0;32m     10\u001b[0m cnn_layers\u001b[38;5;241m.\u001b[39mappend(torch\u001b[38;5;241m.\u001b[39mnn\u001b[38;5;241m.\u001b[39mConv2d(c1, \u001b[38;5;241m1\u001b[39m, kernel_size \u001b[38;5;241m=\u001b[39m \u001b[38;5;241m1\u001b[39m)) \u001b[38;5;66;03m#classifier\u001b[39;00m\n\u001b[1;32m---> 11\u001b[0m cnn_layers\u001b[38;5;241m.\u001b[39mappend(\u001b[43mtorch\u001b[49m\u001b[38;5;241;43m.\u001b[39;49m\u001b[43mnn\u001b[49m\u001b[38;5;241;43m.\u001b[39;49m\u001b[43mAdaptiveAveragePool2d\u001b[49m(\u001b[38;5;241m1\u001b[39m))\n\u001b[0;32m     12\u001b[0m \u001b[38;5;28mself\u001b[39m\u001b[38;5;241m.\u001b[39mnetwork \u001b[38;5;241m=\u001b[39m torch\u001b[38;5;241m.\u001b[39mnn\u001b[38;5;241m.\u001b[39mSequential(\u001b[38;5;241m*\u001b[39mcnn_layers)\n",
      "\u001b[1;31mAttributeError\u001b[0m: module 'torch.nn' has no attribute 'AdaptiveAveragePool2d'"
     ]
    }
   ],
   "source": [
    "class ConvNet(torch.nn.Module):\n",
    "    def __init__(self, layers = [16, 32, 64], kernel_size = 3, stride = 1):\n",
    "        super().__init__()\n",
    "        cnn_layers = []\n",
    "        c1 = 1 # one dimensional input\n",
    "        for c2 in layers: # output channel size\n",
    "            cnn_layers.append(torch.nn.Conv2d(c1, c2, kernel_size, stride, (kernel_size-1)//2))\n",
    "            cnn_layers.append(torch.nn.ReLU())\n",
    "            c1 = c2\n",
    "        cnn_layers.append(torch.nn.Conv2d(c1, 1, kernel_size = 1)) #classifier\n",
    "        cnn_layers.append(torch.nn.AdaptiveAveragePool2d(1))\n",
    "        self.network = torch.nn.Sequential(*cnn_layers)\n",
    "        \n",
    "    def forward(self, x):\n",
    "        return self.network(x)\n",
    "\n",
    "net = ConvNet(stride = 2)\n",
    "print(net)\n",
    "net(x).shape"
   ]
  },
  {
   "cell_type": "code",
   "execution_count": null,
   "metadata": {},
   "outputs": [],
   "source": [
    "from matplotlib import pyplot as plt\n",
    "\n",
    "x = torch.randn(1, 1, 28, 28, requires_grad=True)\n",
    "x[0, 0, 10, 10] = float('NaN')\n",
    "net = ConvNet(stride = 2)\n",
    "y = net(x)\n",
    "\n",
    "z = y.new_zeros(y.share) #create a tensor of the same shape as y on the same device\n",
    "z[0, 0, z.shape[2]//2, z.shape[3]//2] = float('NaN')\n",
    "f, ax = plt.subplots(1, 2)\n",
    "ax[0].imshow(z[0, 0].detach().numpy())\n",
    "\n",
    "(y * z).sum().backward()\n",
    "\n",
    "#plt.imshow(y[0, 0].detach().numpy())\n",
    "plt.imshow(x.grad[0, 0].detach().numpy())"
   ]
  }
 ],
 "metadata": {
  "kernelspec": {
   "display_name": "Python 3",
   "language": "python",
   "name": "python3"
  },
  "language_info": {
   "codemirror_mode": {
    "name": "ipython",
    "version": 3
   },
   "file_extension": ".py",
   "mimetype": "text/x-python",
   "name": "python",
   "nbconvert_exporter": "python",
   "pygments_lexer": "ipython3",
   "version": "3.12.7"
  }
 },
 "nbformat": 4,
 "nbformat_minor": 2
}
