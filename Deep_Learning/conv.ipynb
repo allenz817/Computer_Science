{
 "cells": [
  {
   "cell_type": "code",
   "execution_count": null,
   "metadata": {},
   "outputs": [],
   "source": [
    "import torch"
   ]
  },
  {
   "cell_type": "code",
   "execution_count": null,
   "metadata": {},
   "outputs": [],
   "source": [
    "net = torch.nn.Conv2d(1, 16, 3, 2, (3-1)//2)"
   ]
  },
  {
   "cell_type": "code",
   "execution_count": null,
   "metadata": {},
   "outputs": [],
   "source": [
    "x = torch.randn(1, 1, 28, 28)\n",
    "print(x.shape)"
   ]
  },
  {
   "cell_type": "code",
   "execution_count": null,
   "metadata": {},
   "outputs": [],
   "source": [
    "y = net(x)\n",
    "print(y.shape)"
   ]
  },
  {
   "cell_type": "code",
   "execution_count": null,
   "metadata": {},
   "outputs": [],
   "source": [
    "class ConvNet(torch.nn.Module):\n",
    "    def __init__(self, layers = [16, 32, 64], kernel_size = 3, stride = 1):\n",
    "        super().__init__()\n",
    "        cnn_layers = []\n",
    "        c1 = 1 # one dimensional input\n",
    "        for c2 in layers: # output channel size\n",
    "            cnn_layers.append(torch.nn.Conv2d(c1, c2, kernel_size, stride, (kernel_size-1)//2))\n",
    "            cnn_layers.append(torch.nn.ReLU())\n",
    "            c1 = c2\n",
    "        cnn_layers.append(torch.nn.Conv2d(c1, 1, kernel_size = 1)) #classifier\n",
    "        #cnn_layers.append(torch.nn.AdaptiveAveragePool2d(1))\n",
    "        self.network = torch.nn.Sequential(*cnn_layers)\n",
    "        \n",
    "    def forward(self, x):\n",
    "        return self.network(x)\n",
    "\n",
    "net = ConvNet(stride = 2)\n",
    "x = torch.randn(1, 1, 28, 28)\n",
    "net(x).shape"
   ]
  },
  {
   "cell_type": "code",
   "execution_count": null,
   "metadata": {},
   "outputs": [],
   "source": [
    "from matplotlib import pyplot as plt\n",
    "\n",
    "x = torch.randn(1, 1, 28, 28, requires_grad=True)\n",
    "x[0, 0, 10, 10] = float('NaN')\n",
    "net = ConvNet(stride = 2)\n",
    "y = net(x)\n",
    "\n",
    "z = y.new_zeros(y.share) #create a tensor of the same shape as y on the same device\n",
    "z[0, 0, z.shape[2]//2, z.shape[3]//2] = float('NaN')\n",
    "f, ax = plt.subplots(1, 2)\n",
    "ax[0].imshow(z[0, 0].detach().numpy())\n",
    "\n",
    "(y * z).sum().backward()\n",
    "\n",
    "#plt.imshow(y[0, 0].detach().numpy())\n",
    "plt.imshow(x.grad[0, 0].detach().numpy())"
   ]
  }
 ],
 "metadata": {
  "kernelspec": {
   "display_name": "Python 3",
   "language": "python",
   "name": "python3"
  },
  "language_info": {
   "codemirror_mode": {
    "name": "ipython",
    "version": 3
   },
   "file_extension": ".py",
   "mimetype": "text/x-python",
   "name": "python",
   "nbconvert_exporter": "python",
   "pygments_lexer": "ipython3",
   "version": "3.12.7"
  }
 },
 "nbformat": 4,
 "nbformat_minor": 2
}
