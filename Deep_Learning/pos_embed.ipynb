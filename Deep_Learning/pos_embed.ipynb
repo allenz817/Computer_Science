{
 "cells": [
  {
   "cell_type": "code",
   "execution_count": null,
   "metadata": {},
   "outputs": [],
   "source": [
    "import torch\n",
    "import numpy as np\n",
    "from PIL import Image\n",
    "\n",
    "im = Image.open('rose_crop.jpg')\n",
    "im_small = im.resize((128, 128))\n",
    "im_small"
   ]
  },
  {
   "cell_type": "code",
   "execution_count": null,
   "metadata": {},
   "outputs": [],
   "source": [
    "class PositionalEmbedding(torch.nn.Module):\n",
    "    def __init__(self, embed_dim):\n",
    "        super().__init__()\n",
    "        self.freq = torch.exp(- torch.arange(0, embed_dim, 2).float() / embed_dim)\n",
    "\n",
    "    def forward(self, x):\n",
    "        ## x.shape B x 2\n",
    "        x = x[..., None, :] * self.freq[..., None]\n",
    "        print(x.shape)\n",
    "        return torch.cat([torch.sin(x), torch.cos(x)], dim=-1).view(*x.shape[:-2], -1)\n",
    "    \n",
    "#pe = PositionalEmbedding(16)\n",
    "#pe(torch.tensor([[1, 0], [0, 1]])).shape"
   ]
  },
  {
   "cell_type": "code",
   "execution_count": null,
   "metadata": {},
   "outputs": [],
   "source": [
    "from PIL import Image\n",
    "class Rose(torch.nn.Module):\n",
    "    def __init__(self):\n",
    "        super().__init__()\n",
    "        #self.enc = torch.nn.Identity() # identity encoding - use raw x,y coordinates\n",
    "        self.enc = PositionalEmbedding(12)\n",
    "        self.net = torch.nn.Sequential(\n",
    "            torch.nn.Linear(24, 256), # 24=2*12\n",
    "            torch.nn.ReLU(),\n",
    "            torch.nn.Linear(256, 128),\n",
    "            torch.nn.ReLU(),\n",
    "            torch.nn.Linear(128, 64),\n",
    "            torch.nn.ReLU(),\n",
    "            torch.nn.Linear(64, 3), # 3 channels - RGB\n",
    "        )\n",
    "    def forward(self, x):\n",
    "        x = self.enc(x)\n",
    "        return self.net(x)\n",
    "    \n",
    "rose_tensor = torch.as_tensor(np.array(im_small), dtype=torch.float32) / 255. - 0.5\n",
    "position = torch.stack(torch.meshgrid(torch.linspace(-1, 1, 128), torch.linspace(-1,1, 128)), dim=-1)\n",
    "\n",
    "net = Rose()\n",
    "\n",
    "rose_tensor = rose_tensor.cuda()\n",
    "position = position.cuda()\n",
    "net = net.cuda()\n",
    "\n",
    "optim = torch.optim.Adam(net.parameters(), lr=1e-3)\n",
    "for it in range(5000):\n",
    "    optim.zero_grad()\n",
    "    loss = abs(net(position) - rose_tensor).mean()\n",
    "    if it % 100 == 0:\n",
    "        print(float(loss))\n",
    "    loss.backward()\n",
    "    optim.step()\n",
    "    \n",
    "Image.fromarray(((net(position) + 0.5).clamp(0, 1) * 255).cpu().to(torch.uint8).numpy())"
   ]
  }
 ],
 "metadata": {
  "kernelspec": {
   "display_name": "Python 3",
   "language": "python",
   "name": "python3"
  },
  "language_info": {
   "codemirror_mode": {
    "name": "ipython",
    "version": 3
   },
   "file_extension": ".py",
   "mimetype": "text/x-python",
   "name": "python",
   "nbconvert_exporter": "python",
   "pygments_lexer": "ipython3",
   "version": "3.12.7"
  }
 },
 "nbformat": 4,
 "nbformat_minor": 2
}
