{
 "cells": [
  {
   "cell_type": "code",
   "execution_count": 2,
   "metadata": {},
   "outputs": [],
   "source": [
    "import torch"
   ]
  },
  {
   "cell_type": "code",
   "execution_count": 3,
   "metadata": {},
   "outputs": [],
   "source": [
    "net = torch.nn.Conv2d(1, 16, 3, 2, (3-1)//2)"
   ]
  },
  {
   "cell_type": "code",
   "execution_count": 4,
   "metadata": {},
   "outputs": [
    {
     "name": "stdout",
     "output_type": "stream",
     "text": [
      "torch.Size([1, 1, 28, 28])\n"
     ]
    }
   ],
   "source": [
    "x = torch.randn(1, 1, 28, 28)\n",
    "print(x.shape)"
   ]
  },
  {
   "cell_type": "code",
   "execution_count": 5,
   "metadata": {},
   "outputs": [
    {
     "name": "stdout",
     "output_type": "stream",
     "text": [
      "torch.Size([1, 16, 14, 14])\n"
     ]
    }
   ],
   "source": [
    "y = net(x)\n",
    "print(y.shape)"
   ]
  },
  {
   "cell_type": "code",
   "execution_count": 13,
   "metadata": {},
   "outputs": [
    {
     "name": "stdout",
     "output_type": "stream",
     "text": [
      "ConvNet(\n",
      "  (network): Sequential(\n",
      "    (0): Conv2d(3, 64, kernel_size=(11, 11), stride=(2, 2), padding=(5, 5))\n",
      "    (1): ReLU()\n",
      "    (2): Block(\n",
      "      (c1): Conv2d(64, 128, kernel_size=(3, 3), stride=(2, 2), padding=(1, 1))\n",
      "      (c2): Conv2d(128, 128, kernel_size=(3, 3), stride=(1, 1), padding=(1, 1))\n",
      "      (c3): Conv2d(128, 128, kernel_size=(3, 3), stride=(1, 1), padding=(1, 1))\n",
      "      (relu): ReLU()\n",
      "    )\n",
      "    (3): Block(\n",
      "      (c1): Conv2d(128, 256, kernel_size=(3, 3), stride=(2, 2), padding=(1, 1))\n",
      "      (c2): Conv2d(256, 256, kernel_size=(3, 3), stride=(1, 1), padding=(1, 1))\n",
      "      (c3): Conv2d(256, 256, kernel_size=(3, 3), stride=(1, 1), padding=(1, 1))\n",
      "      (relu): ReLU()\n",
      "    )\n",
      "    (4): Block(\n",
      "      (c1): Conv2d(256, 512, kernel_size=(3, 3), stride=(2, 2), padding=(1, 1))\n",
      "      (c2): Conv2d(512, 512, kernel_size=(3, 3), stride=(1, 1), padding=(1, 1))\n",
      "      (c3): Conv2d(512, 512, kernel_size=(3, 3), stride=(1, 1), padding=(1, 1))\n",
      "      (relu): ReLU()\n",
      "    )\n",
      "    (5): Conv2d(512, 1, kernel_size=(1, 1), stride=(1, 1))\n",
      "  )\n",
      ")\n"
     ]
    }
   ],
   "source": [
    "class ConvNet(torch.nn.Module):\n",
    "    class Block(torch.nn.Module):\n",
    "        def __init__(self, in_channels, out_channels, stride):\n",
    "            super().__init__()\n",
    "            kernel_size = 3\n",
    "            padding = (kernel_size-1)//2\n",
    "            self.c1 = torch.nn.Conv2d(in_channels, out_channels, kernel_size, stride, padding)\n",
    "            self.c2 = torch.nn.Conv2d(out_channels, out_channels, kernel_size, 1, padding)\n",
    "            self.c3 = torch.nn.Conv2d(out_channels, out_channels, kernel_size, 1, padding)\n",
    "            self.relu = torch.nn.ReLU()\n",
    "        \n",
    "        def forward(self, x):\n",
    "            x = self.relu(self.c1(x))\n",
    "            x = self.relu(self.c2(x))\n",
    "            x = self.relu(self.c3(x))\n",
    "            return x\n",
    "    \n",
    "    def __init__(self, channels_10 = 64, n_blocks = 4):\n",
    "        super().__init__()\n",
    "        cnn_layers = [\n",
    "            torch.nn.Conv2d(3, channels_10, kernel_size = 11, stride = 2, padding = 5),\n",
    "            torch.nn.ReLU(),\n",
    "        ]\n",
    "        c1 = channels_10\n",
    "        for _ in range(n_blocks):\n",
    "            c2 = c1 * 2\n",
    "            cnn_layers.append(self.Block(c1, c2, stride = 2))\n",
    "            c1 = c2\n",
    "        cnn_layers.append(torch.nn.Conv2d(c1, 1, kernel_size = 1))\n",
    "        #cnn_layers.append(torch.nn.AdaptiveAveragePool2d(1))\n",
    "        self.network = torch.nn.Sequential(*cnn_layers)\n",
    "        \n",
    "    def forward(self, x):\n",
    "        return self.network(x)\n",
    "\n",
    "net = ConvNet(n_blocks=3)\n",
    "x = torch.randn(1, 3, 64, 64)\n",
    "#net(x).shape\n",
    "print(net)"
   ]
  }
 ],
 "metadata": {
  "kernelspec": {
   "display_name": "Python 3",
   "language": "python",
   "name": "python3"
  },
  "language_info": {
   "codemirror_mode": {
    "name": "ipython",
    "version": 3
   },
   "file_extension": ".py",
   "mimetype": "text/x-python",
   "name": "python",
   "nbconvert_exporter": "python",
   "pygments_lexer": "ipython3",
   "version": "3.12.7"
  }
 },
 "nbformat": 4,
 "nbformat_minor": 2
}
