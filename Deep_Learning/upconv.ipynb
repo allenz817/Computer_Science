{
 "cells": [
  {
   "cell_type": "code",
   "execution_count": 1,
   "metadata": {},
   "outputs": [],
   "source": [
    "import torch"
   ]
  },
  {
   "cell_type": "code",
   "execution_count": null,
   "metadata": {},
   "outputs": [
    {
     "name": "stdout",
     "output_type": "stream",
     "text": [
      "[Parameter containing:\n",
      "tensor([[[[ 0.2899,  0.0979, -0.2296],\n",
      "          [-0.2907, -0.1464, -0.1634],\n",
      "          [-0.2028, -0.3216,  0.2284]]]], requires_grad=True), Parameter containing:\n",
      "tensor([0.0907], requires_grad=True), Parameter containing:\n",
      "tensor([[[[ 0.0457, -0.0583, -0.2322],\n",
      "          [-0.0520, -0.1056, -0.0569],\n",
      "          [-0.1764, -0.2853, -0.1077]]]], requires_grad=True), Parameter containing:\n",
      "tensor([0.2327], requires_grad=True)]\n",
      "[Parameter containing:\n",
      "tensor([[[[ 0.0278, -0.2255, -0.2025],\n",
      "          [-0.2487,  0.1943,  0.0574],\n",
      "          [ 0.0170, -0.2974, -0.1704]]]], requires_grad=True), Parameter containing:\n",
      "tensor([0.1391], requires_grad=True), Parameter containing:\n",
      "tensor([[[[ 0.2028,  0.1040, -0.2306],\n",
      "          [-0.2404, -0.1529,  0.1846],\n",
      "          [-0.2681,  0.3321, -0.2321]]]], requires_grad=True), Parameter containing:\n",
      "tensor([0.2802], requires_grad=True)]\n",
      "torch.Size([1, 1, 32, 32]) torch.Size([1, 1, 16, 16])\n",
      "torch.Size([1, 1, 32, 32]) torch.Size([1, 1, 32, 32])\n",
      "tensor([[[[ 0.1998,  0.4846, -0.0449, -0.0054,  0.3287,  0.0043,  0.2873,\n",
      "            0.2744,  0.1518,  0.5183,  0.2421, -0.0045,  0.1373, -0.0262,\n",
      "            0.1261,  0.3278],\n",
      "          [ 0.0202,  0.3712,  0.0222,  0.0064,  0.6190, -0.0791,  0.0968,\n",
      "            0.4888,  0.1006,  0.2835, -0.1667,  0.2889,  0.6456, -0.2085,\n",
      "            0.3333,  0.2835],\n",
      "          [ 0.0860,  0.5372, -0.0959,  0.1291,  0.1282,  0.2008,  0.3099,\n",
      "            0.1447,  0.1076,  0.1329,  0.1845,  0.1499,  0.3000,  0.1257,\n",
      "            0.1453,  0.3783],\n",
      "          [ 0.1553,  0.0133,  0.6150,  0.0109,  0.2136,  0.4800,  0.1896,\n",
      "            0.3382,  0.3410, -0.0055,  0.4451, -0.3030,  0.4399, -0.1524,\n",
      "            0.2510,  0.5029],\n",
      "          [ 0.1232,  0.3656,  0.3059,  0.0623,  0.5071,  0.0630,  0.2670,\n",
      "            0.1581,  0.2126,  0.2444,  0.2925,  0.1462,  0.4886, -0.0198,\n",
      "            0.3744, -0.0488],\n",
      "          [ 0.4527,  0.1147,  0.1495,  0.2963,  0.5303, -0.1457, -0.0095,\n",
      "            0.3918, -0.0461,  0.0097,  0.3824,  0.1597,  0.2062,  0.0110,\n",
      "            0.1006,  0.2116],\n",
      "          [ 0.3184, -0.0852,  0.0890, -0.0488,  0.5539, -0.1821,  0.5452,\n",
      "            0.0392,  0.0498,  0.4214,  0.2676, -0.0971, -0.1428, -0.0288,\n",
      "            0.2438,  0.1192],\n",
      "          [ 0.4421,  0.1858, -0.0614,  0.3443,  0.2667, -0.1550, -0.0291,\n",
      "            0.5063,  0.5017,  0.0251, -0.1384,  0.5946,  0.1804,  0.3125,\n",
      "            0.0790,  0.3173],\n",
      "          [ 0.1349,  0.2620,  0.4486,  0.1624,  0.0200, -0.0147,  0.0533,\n",
      "            0.4725,  0.0932,  0.0679,  0.2309,  0.4773, -0.1616,  0.1897,\n",
      "            0.6316,  0.2955],\n",
      "          [ 0.3338,  0.3889,  0.0173,  0.1481,  0.4720,  0.0211,  0.2144,\n",
      "            0.5531, -0.4384,  0.0370,  0.2516,  0.1725, -0.0466,  0.5648,\n",
      "           -0.1423,  0.3970],\n",
      "          [ 0.4115,  0.2111,  0.1510,  0.1098,  0.1966,  0.3837, -0.2851,\n",
      "            0.4122,  0.0330,  0.4481,  0.0232, -0.2495,  0.4261,  0.2283,\n",
      "            0.0194,  0.3294],\n",
      "          [ 0.3282,  0.1265, -0.3337,  0.5979,  0.1535,  0.3575, -0.4447,\n",
      "            0.5351, -0.0200,  0.1549,  0.2161,  0.2611,  0.3002,  0.1603,\n",
      "            0.1768,  0.3039],\n",
      "          [ 0.3003,  0.2047,  0.1117,  0.2525, -0.2784,  0.3859,  0.2641,\n",
      "            0.2400, -0.1832,  0.3212,  0.2512,  0.1957,  0.3106,  0.1782,\n",
      "            0.3369,  0.3561],\n",
      "          [ 0.1247,  0.4601,  0.0219,  0.3821, -0.0116,  0.3548, -0.0379,\n",
      "            0.7076,  0.2019, -0.0088,  0.3904,  0.2047, -0.2059,  0.2967,\n",
      "           -0.0518,  0.3069],\n",
      "          [ 0.3240,  0.3433, -0.3052,  0.6778,  0.0060,  0.1126,  0.4166,\n",
      "            0.1857, -0.0301,  0.3458,  0.2131,  0.1579,  0.1996,  0.3590,\n",
      "           -0.2192,  0.2738],\n",
      "          [ 0.1639,  0.2701,  0.5925,  0.2194, -0.0861,  0.1676,  0.0171,\n",
      "            0.3989,  0.5116,  0.1636,  0.3061,  0.1906,  0.1555,  0.4118,\n",
      "            0.3148,  0.2970]]]], grad_fn=<ConvolutionBackward0>)\n",
      "tensor([[[[ 0.2185,  0.1687,  0.1858,  ...,  0.0200,  0.1860,  0.0891],\n",
      "          [ 0.0781,  0.0904,  0.0470,  ...,  0.1234,  0.0230,  0.0482],\n",
      "          [-0.0314,  0.0981, -0.0311,  ...,  0.1232,  0.1804,  0.1366],\n",
      "          ...,\n",
      "          [ 0.1553,  0.0762,  0.0082,  ..., -0.1668,  0.0214,  0.1667],\n",
      "          [ 0.1741,  0.1793,  0.1635,  ...,  0.1034,  0.2563,  0.2344],\n",
      "          [-0.0679,  0.1563,  0.1198,  ...,  0.2711,  0.1642,  0.2327]]]],\n",
      "       grad_fn=<ConvolutionBackward0>)\n"
     ]
    }
   ],
   "source": [
    "net1 = torch.nn.Sequential(\n",
    "    torch.nn.Conv2d(1, 1, 3, stride=2, padding=1, dilation=1),\n",
    "    torch.nn.ReLU(),\n",
    "    torch.nn.Conv2d(1, 1, 3, stride=1, padding=1, dilation=1),\n",
    ")\n",
    "net2 = torch.nn.Sequential(\n",
    "    torch.nn.Conv2d(1, 1, 3, stride=1, padding=1, dilation=1),\n",
    "    torch.nn.ReLU(),\n",
    "    torch.nn.Conv2d(1, 1, 3, stride=1, padding=2, dilation=2),\n",
    ")\n",
    "for p1, p2 in zip(net1.parameters(), net2.parameters()):\n",
    "    p2.data = p1.data.clone()\n",
    "    p2.requires_grad = True\n",
    "\n",
    "print(list(net1.parameters()))\n",
    "print(list(net2.parameters()))\n",
    "\n",
    "x = torch.randn(1, 1, 32, 32)\n",
    "print(x.shape, net1(x).shape)\n",
    "print(x.shape, net2(x).shape)\n",
    "y1 = net1(x)\n",
    "y2 = net2(x)\n",
    "print(y1)\n",
    "print(y2[:, :, ::2, ::2])"
   ]
  },
  {
   "cell_type": "code",
   "execution_count": null,
   "metadata": {},
   "outputs": [
    {
     "name": "stdout",
     "output_type": "stream",
     "text": [
      "torch.Size([1, 1, 5, 5])\n"
     ]
    }
   ],
   "source": [
    "net1 = torch.nn.Sequential(\n",
    "    torch.nn.Conv2d(1, 1, 3, stride=2, padding=1, dilation=1),\n",
    "    torch.nn.ReLU(),\n",
    "    torch.nn.Conv2d(1, 1, 3, stride=1, padding=1, dilation=1),\n",
    "    torch.nn.ReLU(),\n",
    "    torch.nn.ConvTranspose2d(1, 1, 3, stride=2, padding=1, output_padding = 1), #add padding for consistent shape\n",
    ")\n",
    "x = torch.randn(1, 1, 5, 5)\n",
    "print(net1(x)[:, :, :x.shape[2], :x.shape[3]].shape) #cut to produce same input shape as output shape"
   ]
  }
 ],
 "metadata": {
  "kernelspec": {
   "display_name": "Python 3",
   "language": "python",
   "name": "python3"
  },
  "language_info": {
   "codemirror_mode": {
    "name": "ipython",
    "version": 3
   },
   "file_extension": ".py",
   "mimetype": "text/x-python",
   "name": "python",
   "nbconvert_exporter": "python",
   "pygments_lexer": "ipython3",
   "version": "3.12.7"
  }
 },
 "nbformat": 4,
 "nbformat_minor": 2
}
