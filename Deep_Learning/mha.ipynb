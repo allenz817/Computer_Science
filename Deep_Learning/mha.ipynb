{
 "cells": [
  {
   "cell_type": "code",
   "execution_count": 2,
   "metadata": {},
   "outputs": [],
   "source": [
    "import torch"
   ]
  },
  {
   "cell_type": "code",
   "execution_count": 3,
   "metadata": {},
   "outputs": [],
   "source": [
    "torch_attention = torch.nn.MultiheadAttention(16, 4, 0, batch_first=True)"
   ]
  },
  {
   "cell_type": "code",
   "execution_count": 7,
   "metadata": {},
   "outputs": [
    {
     "name": "stdout",
     "output_type": "stream",
     "text": [
      "torch.Size([10, 5, 16])\n",
      "[('in_proj_weight', torch.Size([48, 16])), ('in_proj_bias', torch.Size([48])), ('out_proj.weight', torch.Size([16, 16])), ('out_proj.bias', torch.Size([16]))]\n"
     ]
    }
   ],
   "source": [
    "k, v, q = torch.rand(10, 3, 16), torch.rand(10, 3, 16), torch.rand(10, 5, 16)\n",
    "o, _ = torch_attention(q, k, v)\n",
    "print(o.shape)\n",
    "print([(n, v.shape) for n, v in list(torch_attention.named_parameters())])"
   ]
  },
  {
   "cell_type": "code",
   "execution_count": null,
   "metadata": {},
   "outputs": [
    {
     "name": "stdout",
     "output_type": "stream",
     "text": [
      "torch.Size([10, 5, 16])\n"
     ]
    }
   ],
   "source": [
    "import torch.nn as nn\n",
    "class MHA(nn.Module):\n",
    "    def __init__(self, embed_dim, num_heads):\n",
    "        super().__init__()\n",
    "        self.in_proj_k = nn.Linear(embed_dim, embed_dim)\n",
    "        self.in_proj_v = nn.Linear(embed_dim, embed_dim)\n",
    "        self.in_proj_q = nn.Linear(embed_dim, embed_dim)\n",
    "        self.out_proj = nn.Linear(embed_dim, embed_dim)\n",
    "        self.n_heads = num_heads\n",
    "        \n",
    "    def forward(self, q, k, v):\n",
    "        from einops import rearrange\n",
    "        p_q, p_k, p_v = self.in_proj_q(q), self.in_proj_k(k), self.in_proj_v(v)\n",
    "        \n",
    "        r_q = rearrange(p_q, 'b m (h d) -> b h m d', h = self.n_heads)\n",
    "        r_k = rearrange(p_k, 'b n (h d) -> b h n d', h = self.n_heads)\n",
    "        r_v = rearrange(p_v, 'b n (h d) -> b h n d', h = self.n_heads)\n",
    "        \n",
    "        scores = torch.einsum('b h m d, b h n d -> b h m n', r_q, r_k) #output raw attention weights\n",
    "        attn = torch.nn.functional.softmax(scores, dim = -1) #softmax over the last dimension\n",
    "        context = torch.einsum('b h m n, b h n d -> b h m d', attn, r_v)\n",
    "        result = torch.einsum('b h m n, b h n d -> b h m d', attn, r_v)\n",
    "        r_result = rearrange(result, 'b h m d -> b m (h d)')\n",
    "        return self.out_proj(r_result)\n",
    "\n",
    "our_attention = MHA(16, 4)\n",
    "o = our_attention(q, k, v)\n",
    "o_torch, _ = torch_attention(q, k, v)\n",
    "print(o.shape, o_torch.shape)"
   ]
  },
  {
   "cell_type": "code",
   "execution_count": null,
   "metadata": {},
   "outputs": [],
   "source": []
  }
 ],
 "metadata": {
  "kernelspec": {
   "display_name": "Python 3",
   "language": "python",
   "name": "python3"
  },
  "language_info": {
   "codemirror_mode": {
    "name": "ipython",
    "version": 3
   },
   "file_extension": ".py",
   "mimetype": "text/x-python",
   "name": "python",
   "nbconvert_exporter": "python",
   "pygments_lexer": "ipython3",
   "version": "3.12.7"
  }
 },
 "nbformat": 4,
 "nbformat_minor": 2
}
